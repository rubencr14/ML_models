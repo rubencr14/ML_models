{
 "cells": [
  {
   "cell_type": "markdown",
   "metadata": {},
   "source": [
    "# VARIATIONAL AUTOENCODER EXAMPLE (TENSORFLOW)\n",
    "In this example we are going to use the MNIST dataset downloaded directly from tensorflow.examples.\n",
    "First, we specify the different variables:\n",
    "batch_size: number of instances used in the minibatch gradient descent approximation\n",
    "X_in: Defining a placeholder for saving the images used in the training examples. The shape is the shape of the tensor\n",
    "to be fed. None means that it will be the size of the batch. \n",
    "Y: This placeholder will hold the images reconstructed by the decoder part of the autoencoder\n",
    "Y_flat: Y reshaped in order to be used when computing losses\n",
    "keep_prob: This is used as a placeholder when using the dropout regularization technique\n",
    "reshaped_dim: dimension of the decoder when sarting the transpose convolutional2D layers after the dense layers\n",
    "architecture\n",
    "inputs_decoder: The dimension of the inputs in the decoder phase\n",
    "The leaky_relu is defined since tensorflow does not have a predefined one (since 1.4.0 release tf.nn.leaky_relu can be used)\n",
    "\n",
    "The encoder if the first part of the architecture. In this phase, the aim is to find a lower dimensional representation of the images until obtaining the latent variables Z. Firstly, the images are reshaped according to the tensor dimensions:\n",
    "[batch_size, height, width, channels]. -1 in batch_size means using the batch size defined when splitting the dataset\n",
    "into batches. RGB for example has 3 channels whereas white and black images have 1 as channels.\n",
    "The encoder has basically convolutional layers since we are treating with images. However, other types of architectures could be employed instead. \n",
    "The mean and standard deviation necessary for the reparametrization trick will be computed using two dense layers which\n",
    "will be optimized for computing them via the gradients.\n",
    "The decoder can sample from Q(Z|X) distribution in order to obtain the images back to their real form. Nonetheless, since sampling is stochastic we cannot use backpropagation! To solve this we can apply: z = mean + deviation * epsilon (* meaning elementwise or Hadamard multiplication). This way, all the randomness is saved in the epsilon variables and now\n",
    "we can use gradients in order to optimize the theta and phi parameters. This is called the reparametrization trick.\n",
    "\n"
   ]
  },
  {
   "cell_type": "markdown",
   "metadata": {},
   "source": [
    "# Importing packages and modules"
   ]
  },
  {
   "cell_type": "code",
   "execution_count": 1,
   "metadata": {},
   "outputs": [],
   "source": [
    "from sklearn.decomposition import PCA\n",
    "import tensorflow as tf\n",
    "import numpy as np\n",
    "import matplotlib.pyplot as plt\n",
    "from matplotlib.colors import ListedColormap\n",
    "import seaborn as sns\n",
    "from tensorflow.examples.tutorials.mnist import input_data\n",
    "from functools import wraps\n",
    "import os, sys, time\n",
    "%matplotlib inline "
   ]
  },
  {
   "cell_type": "markdown",
   "metadata": {},
   "source": [
    "# Decorators\n",
    "\n",
    "This section include some interesting decorators that will be used in the autoencoder architecture.\n",
    "Basically decorators are methods that modify the functionality of the function they decorate."
   ]
  },
  {
   "cell_type": "code",
   "execution_count": 2,
   "metadata": {},
   "outputs": [],
   "source": [
    "class Decorators(object):\n",
    "\n",
    "    @staticmethod\n",
    "    def tensorboad_graph(path=os.getcwd()):\n",
    "        \n",
    "        \"\"\"\n",
    "        This decorator allows to create the graph in tensorboard.\n",
    "        run this command on the terminal in the directory \"path\": python -m tensorboard.main --logdir=.\n",
    "        and then enter the following URL: http://localhost:6006/\n",
    "        \n",
    "        \"\"\"\n",
    "        def mydecorator(func):\n",
    "            @wraps(func)\n",
    "            def mywrapper(self, *args, **kwargs):\n",
    "                func(self, *args, **kwargs)\n",
    "                with tf.Session() as sess:\n",
    "                    writer = tf.summary.FileWriter(os.path.join(path, \"graphs\"), sess.graph)\n",
    "                    msg = \\\n",
    "                    \"\"\"\n",
    "                    run this command on the terminal in the directory \"path\": python -m tensorboard.main --logdir=.\n",
    "                    and then enter the following URL: http://localhost:6006/\n",
    "                    \"\"\"\n",
    "                    print(\"INSTRUCTIONS FOR TENSFORBOARD: \\n {}\".format(msg))\n",
    "            return mywrapper\n",
    "        return mydecorator\n",
    "    \n",
    "    @staticmethod\n",
    "    def pca_latent(n_components=2, plot=True):\n",
    "        \n",
    "        \"\"\"\n",
    "        This decorator will be useful in order to create PCA\n",
    "        representation of the latent variables and to plot it\n",
    "        \n",
    "        \"\"\"\n",
    "        def mydecorator(func):\n",
    "            @wraps(func)\n",
    "            def mywrapper(self, *args, **kwargs):\n",
    "                func(self, *args, **kwargs)\n",
    "                #Implement PCA of latent variables and plotting\n",
    "            return mywrapper\n",
    "        return mydecorator\n",
    "    \n",
    "    @staticmethod\n",
    "    def timing(func):\n",
    "        \n",
    "        \"\"\"\n",
    "        This decorator allows to know how much time is the execution time of the\n",
    "        decoratedd function/method in seconds\n",
    "        \n",
    "        \"\"\"\n",
    "        \n",
    "        @wraps(func)\n",
    "        def mywrapper(self, *args, **kwargs):\n",
    "            start = time.time()\n",
    "            return_variable = func(self, *args, **kwargs)\n",
    "            end = time.time()\n",
    "            print(\"Execution time of method {}: {} seconds\".format(func.__name__, round(end-start, 3)))\n",
    "            return return_variable\n",
    "        return mywrapper\n",
    "            \n",
    "            \n",
    "    \n",
    "    \n",
    "                "
   ]
  },
  {
   "cell_type": "code",
   "execution_count": 3,
   "metadata": {},
   "outputs": [],
   "source": [
    "class PrepareData(object):\n",
    "\n",
    "    def __init__(self, batch_size, latent_variables, dec_in_channels):\n",
    "        \n",
    "        self._mnist =  input_data.read_data_sets(\"MNIST\", one_hot=False)\n",
    "        self._X_in = tf.placeholder(dtype=tf.float32, shape=[None, 28, 28], name=\"X\")\n",
    "        self._Y = tf.placeholder(dtype=tf.float32, shape=[None, 28, 28], name=\"Y\")\n",
    "        self._Y_flat = tf.reshape(self._Y, shape=[-1, 28 * 28])\n",
    "        self._keep_prob = tf.placeholder(dtype=tf.float32, shape=(), name=\"keep_prob\") #Used for dropout layers\n",
    "        self._number_of_latent_variables = latent_variables\n",
    "        self._batch_size = batch_size\n",
    "        self._dec_in_channels = dec_in_channels\n",
    "        self._reshaped_dim = [-1, 7, 7, self._dec_in_channels]\n",
    "        self._inputs_decoder = 49\n",
    "        \n",
    "    def __str__(self):\n",
    "        \n",
    "        return \"variables: \\n latent variables: {} \\n batch size: {}\".format(self._number_of_latent_variables, \n",
    "                                                                             self.batch_size)\n",
    "    \n",
    "class AutoencoderArchitecture(PrepareData):\n",
    "    \n",
    "    def __init__(self, batch_size, latent_variables, dec_in_channels):\n",
    "        super(AutoencoderArchitecture, self).__init__(batch_size, latent_variables, dec_in_channels)\n",
    "        \n",
    "    def leaky_relu(self, x, alpha=0.3):\n",
    "        return tf.maximum(x, tf.multiply(x, alpha))\n",
    "\n",
    "    def _encoder(self):\n",
    "        with tf.variable_scope(\"encoder\", reuse=None):\n",
    "            X_reshaped = tf.reshape(self._X_in, shape=[-1, 28, 28, 1]) #reshape where -1 means the batch_size, \n",
    "                                                                #28 the height, 28 the width and 1 the number of channels!\n",
    "            X = tf.layers.conv2d(X_reshaped, filters=64, kernel_size=4, strides=2, padding=\"same\", activation=self.leaky_relu)\n",
    "            X = tf.nn.dropout(X, self._keep_prob)\n",
    "            X = tf.layers.conv2d(X, filters=64, kernel_size=4, strides=2, padding=\"same\", activation=self.leaky_relu)\n",
    "\n",
    "            X = tf.nn.dropout(X, self._keep_prob)\n",
    "            X = tf.layers.conv2d(X, filters=64, kernel_size=4, strides=1, \n",
    "                                 padding=\"same\", activation=self.leaky_relu)\n",
    "            X = tf.nn.dropout(X, self._keep_prob)\n",
    "            X = tf.contrib.layers.flatten(X) \n",
    "            mean = tf.layers.dense(X, units=self._number_of_latent_variables)\n",
    "            sd = 0.5 * tf.layers.dense(X, units=self._number_of_latent_variables)\n",
    "            epsilon = tf.random_normal([tf.shape(X)[0], self._number_of_latent_variables])\n",
    "            z = mean + tf.multiply(epsilon, tf.exp(sd)) #tf.multiply is elementwise or Hadamard multiplication!\n",
    "\n",
    "            return z, mean, sd\n",
    "\n",
    "    def _decoder(self, sampled_z):\n",
    "\n",
    "        with tf.variable_scope(\"decoder\", reuse=None):\n",
    "            X = tf.layers.dense(sampled_z, units=self._inputs_decoder, activation=self.leaky_relu)\n",
    "            X = tf.layers.dense(X, units=self._inputs_decoder, activation=self.leaky_relu)\n",
    "            X = tf.reshape(X, self._reshaped_dim)\n",
    "            X = tf.layers.conv2d_transpose(X, filters=64, kernel_size=4, strides=2, \n",
    "                                 padding=\"same\", activation=tf.nn.relu)\n",
    "            X = tf.nn.dropout(X, self._keep_prob)\n",
    "            X = tf.layers.conv2d_transpose(X, filters=64, kernel_size=4, strides=1, \n",
    "                                 padding=\"same\", activation=tf.nn.relu)\n",
    "            X = tf.nn.dropout(X, self._keep_prob)\n",
    "            X = tf.layers.conv2d_transpose(X, filters=64, kernel_size=4, strides=1, \n",
    "                                 padding=\"same\", activation=tf.nn.relu)\n",
    "            X_flatten = tf.contrib.layers.flatten(X)\n",
    "            X_dense = tf.layers.dense(X_flatten, units=28*28, activation=tf.nn.sigmoid)\n",
    "            img = tf.reshape(X_dense, shape=[-1, 28, 28])\n",
    "\n",
    "            return img\n",
    "\n",
    "\n",
    "class AutoencoderTrainer(AutoencoderArchitecture):\n",
    "    \n",
    "    def __init__(self, batch_size=64, latent_variables=20, dec_in_channels=1, iterations=100):\n",
    "        super(AutoencoderTrainer, self).__init__(batch_size, latent_variables, dec_in_channels)\n",
    "\n",
    "        self._sampled, self._mean, self._standard = self._encoder()\n",
    "        self.__iterations = iterations\n",
    "        \n",
    "    @property\n",
    "    def iterations(self):\n",
    "        return self.__iterations\n",
    "    \n",
    "    @Decorators.timing\n",
    "    def train(self):\n",
    "\n",
    "        dec = self._decoder(self._sampled)\n",
    "        unreshaped = tf.reshape(dec, [-1, 28 * 28])\n",
    "        img_loss = tf.reduce_sum(tf.squared_difference(unreshaped, self._Y_flat), 1) #Log-likelihood \n",
    "        latent_loss = -0.5 * tf.reduce_sum(1.0 + 2.0 * self._standard - tf.square(self._mean) - tf.exp(2.0 * self._standard), 1) #Kullback-Leibler divergence\n",
    "        \n",
    "        loss = tf.reduce_mean(img_loss + latent_loss)\n",
    "        optimizer = tf.train.AdamOptimizer(0.0005).minimize(loss)\n",
    "        \n",
    "        sess = tf.Session()\n",
    "        sess.run(tf.global_variables_initializer()) #Initializing variables\n",
    "        for i in range(self.__iterations):\n",
    "            batch = [np.reshape(b, [28, 28]) for b in self._mnist.train.next_batch(batch_size=self._batch_size)[0]]\n",
    "            labels = self._mnist.train.next_batch(batch_size=self._batch_size)[1]\n",
    "            sess.run(optimizer, feed_dict={self._X_in: batch, self._Y: batch, self._keep_prob: 0.8})\n",
    "        ModelAnalysis(sess, self._number_of_latent_variables, dec, self._sampled, self._keep_prob)._data_generator()\n",
    "\n"
   ]
  },
  {
   "cell_type": "markdown",
   "metadata": {},
   "source": [
    "# ANALYSIS"
   ]
  },
  {
   "cell_type": "code",
   "execution_count": 4,
   "metadata": {},
   "outputs": [],
   "source": [
    "class ModelAnalysis(object):\n",
    "    \n",
    "    def __init__(self, sess, num_latent, decoder, sampled_distribution, keep_prob):\n",
    "        \n",
    "        self.__sess = sess\n",
    "        self.__num_of_latent_variables = num_latent\n",
    "        self.__decoder = decoder\n",
    "        self.__sampled_distribution = sampled_distribution\n",
    "        self.__keep_prob = keep_prob\n",
    "        self.__number_of_images = 5\n",
    "        \n",
    "        \n",
    "    def _data_generator(self):\n",
    "        \n",
    "        randoms = [np.random.normal(0, 1, self.__num_of_latent_variables) for _ in range(self.__number_of_images)]\n",
    "        imgs = self.__sess.run(self.__decoder, feed_dict={self.__sampled_distribution: randoms, self.__keep_prob: 1.0})\n",
    "        imgs = [np.reshape(imgs[i], [28, 28]) for i in range(len(imgs))]\n",
    "        for img in imgs:\n",
    "            plt.figure(figsize=(1,1))\n",
    "            plt.axis(\"off\")\n",
    "            plt.imshow(img, cmap=\"gray\")\n",
    "            plt.show()\n",
    "    \n",
    "    "
   ]
  },
  {
   "cell_type": "markdown",
   "metadata": {},
   "source": [
    "# MAIN"
   ]
  },
  {
   "cell_type": "code",
   "execution_count": 6,
   "metadata": {},
   "outputs": [
    {
     "name": "stdout",
     "output_type": "stream",
     "text": [
      "Using tensorflow 1.14.0 for generating the variational autoencoder\n",
      "Extracting MNIST/train-images-idx3-ubyte.gz\n",
      "Extracting MNIST/train-labels-idx1-ubyte.gz\n",
      "Extracting MNIST/t10k-images-idx3-ubyte.gz\n",
      "Extracting MNIST/t10k-labels-idx1-ubyte.gz\n"
     ]
    },
    {
     "data": {
      "image/png": "[encoded data removed]",
      "text/plain": [
       "<Figure size 72x72 with 1 Axes>"
      ]
     },
     "metadata": {
      "needs_background": "light"
     },
     "output_type": "display_data"
    },
    {
     "data": {
      "image/png": "[encoded data removed]",
      "text/plain": [
       "<Figure size 72x72 with 1 Axes>"
      ]
     },
     "metadata": {
      "needs_background": "light"
     },
     "output_type": "display_data"
    },
    {
     "data": {
      "image/png": "[encoded data removed]",
      "text/plain": [
       "<Figure size 72x72 with 1 Axes>"
      ]
     },
     "metadata": {
      "needs_background": "light"
     },
     "output_type": "display_data"
    },
    {
     "data": {
      "image/png": "[encoded data removed]",
      "text/plain": [
       "<Figure size 72x72 with 1 Axes>"
      ]
     },
     "metadata": {
      "needs_background": "light"
     },
     "output_type": "display_data"
    },
    {
     "data": {
      "image/png": "[encoded data removed]",
      "text/plain": [
       "<Figure size 72x72 with 1 Axes>"
      ]
     },
     "metadata": {
      "needs_background": "light"
     },
     "output_type": "display_data"
    },
    {
     "name": "stdout",
     "output_type": "stream",
     "text": [
      "Execution time of method train: 5.499 seconds\n"
     ]
    }
   ],
   "source": [
    "def main():\n",
    "    \n",
    "    print(\"Using tensorflow {} for generating the variational autoencoder\".format(tf.__version__))\n",
    "    tf.reset_default_graph()\n",
    "    trainer = AutoencoderTrainer(batch_size=64, latent_variables=49, iterations=10)\n",
    "    trainer.train()\n",
    "    \n",
    "main()"
   ]
  },
  {
   "cell_type": "code",
   "execution_count": null,
   "metadata": {},
   "outputs": [],
   "source": []
  }
 ],
 "metadata": {
  "kernelspec": {
   "display_name": "Python 3",
   "language": "python",
   "name": "python3"
  },
  "language_info": {
   "codemirror_mode": {
    "name": "ipython",
    "version": 3
   },
   "file_extension": ".py",
   "mimetype": "text/x-python",
   "name": "python",
   "nbconvert_exporter": "python",
   "pygments_lexer": "ipython3",
   "version": "3.7.3"
  }
 },
 "nbformat": 4,
 "nbformat_minor": 2
}
